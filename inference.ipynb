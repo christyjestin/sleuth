{
 "cells": [
  {
   "cell_type": "code",
   "execution_count": null,
   "metadata": {},
   "outputs": [
    {
     "name": "stderr",
     "output_type": "stream",
     "text": [
      "/home/cthewolf/Installations/anaconda3/envs/clyde/lib/python3.12/site-packages/tqdm/auto.py:21: TqdmWarning: IProgress not found. Please update jupyter and ipywidgets. See https://ipywidgets.readthedocs.io/en/stable/user_install.html\n",
      "  from .autonotebook import tqdm as notebook_tqdm\n"
     ]
    }
   ],
   "source": [
    "import re, pickle\n",
    "from itertools import chain\n",
    "\n",
    "import psycopg2\n",
    "from datasets import load_dataset\n",
    "\n",
    "from utils import strip_punc"
   ]
  },
  {
   "cell_type": "code",
   "execution_count": null,
   "metadata": {},
   "outputs": [],
   "source": [
    "with open('stopwords-en.txt', mode='r') as f:\n",
    "    stopwords = set([line.strip('\\n') for line in f.readlines()])\n",
    "with open('total_counts.pkl', mode='rb') as f:\n",
    "    total_counts = pickle.load(f)\n",
    "vocabulary = [k for k in total_counts.keys() if k not in stopwords]"
   ]
  },
  {
   "cell_type": "code",
   "execution_count": null,
   "metadata": {},
   "outputs": [],
   "source": [
    "variations_prompt = \"\"\"Generate reasonable variations for each word in the following text. For example, for \\\n",
    "the word philosophy, you might respond philosophies, philosopher, philosophizing. Your only \\\n",
    "output should be the related words: write each group as a comma separated list and use line \\\n",
    "breaks to separate groups.\n",
    "\n",
    "Text:\n",
    "\"\"\""
   ]
  },
  {
   "cell_type": "code",
   "execution_count": null,
   "metadata": {},
   "outputs": [],
   "source": [
    "def parse_variations(text):\n",
    "    output = list(chain(*[line.strip().split(', ') for line in text.split('\\n')]))\n",
    "    return [re.sub('[\\'|\\\"]', '', w) for w in output]"
   ]
  },
  {
   "cell_type": "code",
   "execution_count": null,
   "metadata": {},
   "outputs": [],
   "source": [
    "def query_db(queries):\n",
    "    conn = psycopg2.connect(\"dbname=postgres user=postgres\")\n",
    "    cur = conn.cursor()\n",
    "    hashes = ', '.join([str(hash(word)) for word in queries])\n",
    "    keywords_query = f'''\n",
    "        SELECT chunks\n",
    "        FROM keywords\n",
    "        WHERE word_hash in ({hashes})\n",
    "    '''\n",
    "    cur.execute(keywords_query)\n",
    "    chunks = cur.fetchall()\n",
    "    chunk_ids = ', '.join(list(chain(*[chunk[0] for chunk in chunks])))\n",
    "    chunks_query = f'''\n",
    "        SELECT article_id, chunk_index\n",
    "        FROM wikichunks\n",
    "        WHERE id in ({chunk_ids})\n",
    "    '''\n",
    "    cur.execute(chunks_query)\n",
    "    chunks = cur.fetchall()\n",
    "    cur.close()\n",
    "    conn.close()\n",
    "    return chunks"
   ]
  },
  {
   "cell_type": "code",
   "execution_count": null,
   "metadata": {},
   "outputs": [],
   "source": [
    "ds = load_dataset(\"wikimedia/wikipedia\", \"20231101.en\")['train']\n",
    "def retrieve(article_id, chunk_id):\n",
    "    return strip_punc(ds[article_id]['text']).split('\\n')[chunk_id]"
   ]
  },
  {
   "cell_type": "code",
   "execution_count": null,
   "metadata": {},
   "outputs": [],
   "source": [
    "print(variations_prompt)"
   ]
  },
  {
   "cell_type": "code",
   "execution_count": null,
   "metadata": {},
   "outputs": [],
   "source": [
    "variations = '''compass, compasses, compass-like\n",
    "potter, potters, pottery, potting, potter's\n",
    "wheel, wheels, wheeled, wheelwright  \n",
    "saw, saws, sawing, sawed\n",
    "invention, inventions, inventive, inventing, inventor, invented\n",
    "attribute, attributes, attributed, attributing\n",
    "Athenian, Athenians  \n",
    "youth, youths, youthful, youthfulness\n",
    "'''"
   ]
  },
  {
   "cell_type": "code",
   "execution_count": null,
   "metadata": {},
   "outputs": [],
   "source": [
    "results = query_db(parse_variations(variations))\n",
    "rag_text = [retrieve(*result) for result in results]"
   ]
  }
 ],
 "metadata": {
  "kernelspec": {
   "display_name": "clyde",
   "language": "python",
   "name": "python3"
  },
  "language_info": {
   "codemirror_mode": {
    "name": "ipython",
    "version": 3
   },
   "file_extension": ".py",
   "mimetype": "text/x-python",
   "name": "python",
   "nbconvert_exporter": "python",
   "pygments_lexer": "ipython3",
   "version": "3.12.9"
  }
 },
 "nbformat": 4,
 "nbformat_minor": 2
}
